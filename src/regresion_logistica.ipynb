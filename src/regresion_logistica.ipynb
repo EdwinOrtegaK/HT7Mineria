{
 "cells": [
  {
   "cell_type": "markdown",
   "id": "bcfa43e0",
   "metadata": {},
   "source": [
    "# Modelos de Regresión Logística"
   ]
  },
  {
   "cell_type": "markdown",
   "id": "052d0d50",
   "metadata": {},
   "source": [
    "### 1. y 2. Creación de variables dicotómicas (precio)"
   ]
  },
  {
   "cell_type": "code",
   "execution_count": 2,
   "id": "b246fc2e",
   "metadata": {},
   "outputs": [
    {
     "data": {
      "text/html": [
       "<div>\n",
       "<style scoped>\n",
       "    .dataframe tbody tr th:only-of-type {\n",
       "        vertical-align: middle;\n",
       "    }\n",
       "\n",
       "    .dataframe tbody tr th {\n",
       "        vertical-align: top;\n",
       "    }\n",
       "\n",
       "    .dataframe thead th {\n",
       "        text-align: right;\n",
       "    }\n",
       "</style>\n",
       "<table border=\"1\" class=\"dataframe\">\n",
       "  <thead>\n",
       "    <tr style=\"text-align: right;\">\n",
       "      <th></th>\n",
       "      <th>SalePrice</th>\n",
       "      <th>categoria_precio</th>\n",
       "      <th>es_cara</th>\n",
       "      <th>es_media</th>\n",
       "      <th>es_economica</th>\n",
       "    </tr>\n",
       "  </thead>\n",
       "  <tbody>\n",
       "    <tr>\n",
       "      <th>0</th>\n",
       "      <td>208500</td>\n",
       "      <td>cara</td>\n",
       "      <td>1</td>\n",
       "      <td>0</td>\n",
       "      <td>0</td>\n",
       "    </tr>\n",
       "    <tr>\n",
       "      <th>1</th>\n",
       "      <td>181500</td>\n",
       "      <td>media</td>\n",
       "      <td>0</td>\n",
       "      <td>1</td>\n",
       "      <td>0</td>\n",
       "    </tr>\n",
       "    <tr>\n",
       "      <th>2</th>\n",
       "      <td>223500</td>\n",
       "      <td>cara</td>\n",
       "      <td>1</td>\n",
       "      <td>0</td>\n",
       "      <td>0</td>\n",
       "    </tr>\n",
       "    <tr>\n",
       "      <th>3</th>\n",
       "      <td>140000</td>\n",
       "      <td>media</td>\n",
       "      <td>0</td>\n",
       "      <td>1</td>\n",
       "      <td>0</td>\n",
       "    </tr>\n",
       "    <tr>\n",
       "      <th>4</th>\n",
       "      <td>250000</td>\n",
       "      <td>cara</td>\n",
       "      <td>1</td>\n",
       "      <td>0</td>\n",
       "      <td>0</td>\n",
       "    </tr>\n",
       "  </tbody>\n",
       "</table>\n",
       "</div>"
      ],
      "text/plain": [
       "   SalePrice categoria_precio  es_cara  es_media  es_economica\n",
       "0     208500             cara        1         0             0\n",
       "1     181500            media        0         1             0\n",
       "2     223500             cara        1         0             0\n",
       "3     140000            media        0         1             0\n",
       "4     250000             cara        1         0             0"
      ]
     },
     "execution_count": 2,
     "metadata": {},
     "output_type": "execute_result"
    }
   ],
   "source": [
    "import pandas as pd\n",
    "import numpy as np\n",
    "import matplotlib.pyplot as plt\n",
    "import seaborn as sns\n",
    "\n",
    "from sklearn.model_selection import train_test_split, cross_val_score\n",
    "from sklearn.linear_model import LogisticRegression\n",
    "from sklearn.preprocessing import StandardScaler\n",
    "from sklearn.metrics import classification_report, confusion_matrix, roc_auc_score, roc_curve\n",
    "\n",
    "# Cargar el dataset\n",
    "df = pd.read_csv(\"../data/train_preprocessed.csv\")\n",
    "\n",
    "# Crear columna de categoría de precio según percentiles 33% y 66%\n",
    "p33 = df['SalePrice'].quantile(0.33)\n",
    "p66 = df['SalePrice'].quantile(0.66)\n",
    "\n",
    "def clasificar_precio(precio):\n",
    "    if precio <= p33:\n",
    "        return 'economica'\n",
    "    elif precio <= p66:\n",
    "        return 'media'\n",
    "    else:\n",
    "        return 'cara'\n",
    "\n",
    "df['categoria_precio'] = df['SalePrice'].apply(clasificar_precio)\n",
    "\n",
    "# Variables dicotómicas\n",
    "df['es_cara'] = (df['categoria_precio'] == 'cara').astype(int)\n",
    "df['es_media'] = (df['categoria_precio'] == 'media').astype(int)\n",
    "df['es_economica'] = (df['categoria_precio'] == 'economica').astype(int)\n",
    "\n",
    "# Verificar\n",
    "df[['SalePrice', 'categoria_precio', 'es_cara', 'es_media', 'es_economica']].head()"
   ]
  },
  {
   "cell_type": "markdown",
   "id": "3345110c",
   "metadata": {},
   "source": [
    "### 3. Predecir si una vivienda es cara"
   ]
  },
  {
   "cell_type": "code",
   "execution_count": 3,
   "id": "935faf8d",
   "metadata": {},
   "outputs": [
    {
     "name": "stdout",
     "output_type": "stream",
     "text": [
      "Accuracy promedio (cross-validation): 0.9118154139613367\n",
      "\n",
      "Matriz de Confusión:\n",
      "[[188   9]\n",
      " [ 12  83]]\n",
      "\n",
      "Reporte de Clasificación:\n",
      "              precision    recall  f1-score   support\n",
      "\n",
      "           0       0.94      0.95      0.95       197\n",
      "           1       0.90      0.87      0.89        95\n",
      "\n",
      "    accuracy                           0.93       292\n",
      "   macro avg       0.92      0.91      0.92       292\n",
      "weighted avg       0.93      0.93      0.93       292\n",
      "\n"
     ]
    },
    {
     "data": {
      "image/png": "[encoded data removed]",
      "text/plain": [
       "<Figure size 800x600 with 1 Axes>"
      ]
     },
     "metadata": {},
     "output_type": "display_data"
    }
   ],
   "source": [
    "# Seleccionar las variables predictoras y la variable objetivo\n",
    "features = ['OverallQual', 'GrLivArea', 'GarageCars', 'TotalBsmtSF', 'FullBath', 'YearBuilt']\n",
    "target = 'es_cara'\n",
    "\n",
    "# Dividir el dataset (80% entrenamiento, 20% prueba)\n",
    "X = df[features]\n",
    "y = df[target]\n",
    "\n",
    "X_train, X_test, y_train, y_test = train_test_split(X, y, test_size=0.2, random_state=42)\n",
    "\n",
    "# Escalar los datos\n",
    "scaler = StandardScaler()\n",
    "X_train_scaled = scaler.fit_transform(X_train)\n",
    "X_test_scaled = scaler.transform(X_test)\n",
    "\n",
    "# Crear y entrenar el modelo de regresión logística\n",
    "log_model = LogisticRegression(random_state=42, max_iter=1000)\n",
    "log_model.fit(X_train_scaled, y_train)\n",
    "\n",
    "# Validación cruzada\n",
    "cv_scores = cross_val_score(log_model, X_train_scaled, y_train, cv=5)\n",
    "print(\"Accuracy promedio (cross-validation):\", cv_scores.mean())\n",
    "\n",
    "# Predicciones en el conjunto de prueba\n",
    "y_pred = log_model.predict(X_test_scaled)\n",
    "\n",
    "# Evaluación del modelo\n",
    "print(\"\\nMatriz de Confusión:\")\n",
    "print(confusion_matrix(y_test, y_pred))\n",
    "\n",
    "print(\"\\nReporte de Clasificación:\")\n",
    "print(classification_report(y_test, y_pred))\n",
    "\n",
    "# Curva ROC\n",
    "y_prob = log_model.predict_proba(X_test_scaled)[:, 1]\n",
    "fpr, tpr, thresholds = roc_curve(y_test, y_prob)\n",
    "roc_auc = roc_auc_score(y_test, y_prob)\n",
    "\n",
    "plt.figure(figsize=(8, 6))\n",
    "plt.plot(fpr, tpr, label=f'AUC = {roc_auc:.2f}')\n",
    "plt.plot([0, 1], [0, 1], linestyle='--', color='gray')\n",
    "plt.xlabel('Falsos Positivos')\n",
    "plt.ylabel('Verdaderos Positivos')\n",
    "plt.title('Curva ROC - Regresión Logística')\n",
    "plt.legend()\n",
    "plt.grid()\n",
    "plt.show()\n"
   ]
  }
 ],
 "metadata": {
  "kernelspec": {
   "display_name": "Python 3",
   "language": "python",
   "name": "python3"
  },
  "language_info": {
   "codemirror_mode": {
    "name": "ipython",
    "version": 3
   },
   "file_extension": ".py",
   "mimetype": "text/x-python",
   "name": "python",
   "nbconvert_exporter": "python",
   "pygments_lexer": "ipython3",
   "version": "3.12.5"
  }
 },
 "nbformat": 4,
 "nbformat_minor": 5
}
