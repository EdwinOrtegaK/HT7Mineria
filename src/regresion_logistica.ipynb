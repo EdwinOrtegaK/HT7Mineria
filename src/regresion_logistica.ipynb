{
 "cells": [
  {
   "cell_type": "markdown",
   "id": "bcfa43e0",
   "metadata": {},
   "source": [
    "# Modelos de Regresión Logística"
   ]
  },
  {
   "cell_type": "markdown",
   "id": "052d0d50",
   "metadata": {},
   "source": [
    "### 1. y 2. Creación de variables dicotómicas (precio)"
   ]
  },
  {
   "cell_type": "code",
   "execution_count": 12,
   "id": "b246fc2e",
   "metadata": {},
   "outputs": [
    {
     "data": {
      "text/html": [
       "<div>\n",
       "<style scoped>\n",
       "    .dataframe tbody tr th:only-of-type {\n",
       "        vertical-align: middle;\n",
       "    }\n",
       "\n",
       "    .dataframe tbody tr th {\n",
       "        vertical-align: top;\n",
       "    }\n",
       "\n",
       "    .dataframe thead th {\n",
       "        text-align: right;\n",
       "    }\n",
       "</style>\n",
       "<table border=\"1\" class=\"dataframe\">\n",
       "  <thead>\n",
       "    <tr style=\"text-align: right;\">\n",
       "      <th></th>\n",
       "      <th>SalePrice</th>\n",
       "      <th>categoria_precio</th>\n",
       "      <th>es_cara</th>\n",
       "      <th>es_media</th>\n",
       "      <th>es_economica</th>\n",
       "    </tr>\n",
       "  </thead>\n",
       "  <tbody>\n",
       "    <tr>\n",
       "      <th>0</th>\n",
       "      <td>208500</td>\n",
       "      <td>cara</td>\n",
       "      <td>1</td>\n",
       "      <td>0</td>\n",
       "      <td>0</td>\n",
       "    </tr>\n",
       "    <tr>\n",
       "      <th>1</th>\n",
       "      <td>181500</td>\n",
       "      <td>media</td>\n",
       "      <td>0</td>\n",
       "      <td>1</td>\n",
       "      <td>0</td>\n",
       "    </tr>\n",
       "    <tr>\n",
       "      <th>2</th>\n",
       "      <td>223500</td>\n",
       "      <td>cara</td>\n",
       "      <td>1</td>\n",
       "      <td>0</td>\n",
       "      <td>0</td>\n",
       "    </tr>\n",
       "    <tr>\n",
       "      <th>3</th>\n",
       "      <td>140000</td>\n",
       "      <td>media</td>\n",
       "      <td>0</td>\n",
       "      <td>1</td>\n",
       "      <td>0</td>\n",
       "    </tr>\n",
       "    <tr>\n",
       "      <th>4</th>\n",
       "      <td>250000</td>\n",
       "      <td>cara</td>\n",
       "      <td>1</td>\n",
       "      <td>0</td>\n",
       "      <td>0</td>\n",
       "    </tr>\n",
       "  </tbody>\n",
       "</table>\n",
       "</div>"
      ],
      "text/plain": [
       "   SalePrice categoria_precio  es_cara  es_media  es_economica\n",
       "0     208500             cara        1         0             0\n",
       "1     181500            media        0         1             0\n",
       "2     223500             cara        1         0             0\n",
       "3     140000            media        0         1             0\n",
       "4     250000             cara        1         0             0"
      ]
     },
     "execution_count": 12,
     "metadata": {},
     "output_type": "execute_result"
    }
   ],
   "source": [
    "import pandas as pd\n",
    "import numpy as np\n",
    "import matplotlib.pyplot as plt\n",
    "import seaborn as sns\n",
    "\n",
    "from sklearn.model_selection import train_test_split, cross_val_score\n",
    "from sklearn.linear_model import LogisticRegression\n",
    "from sklearn.preprocessing import StandardScaler\n",
    "from sklearn.metrics import classification_report, confusion_matrix, roc_auc_score, roc_curve\n",
    "\n",
    "# Cargar el dataset\n",
    "df = pd.read_csv(\"../data/train_preprocessed.csv\")\n",
    "\n",
    "# Crear columna de categoría de precio según percentiles 33% y 66%\n",
    "p33 = df['SalePrice'].quantile(0.33)\n",
    "p66 = df['SalePrice'].quantile(0.66)\n",
    "\n",
    "def clasificar_precio(precio):\n",
    "    if precio <= p33:\n",
    "        return 'economica'\n",
    "    elif precio <= p66:\n",
    "        return 'media'\n",
    "    else:\n",
    "        return 'cara'\n",
    "\n",
    "df['categoria_precio'] = df['SalePrice'].apply(clasificar_precio)\n",
    "\n",
    "# Variables dicotómicas\n",
    "df['es_cara'] = (df['categoria_precio'] == 'cara').astype(int)\n",
    "df['es_media'] = (df['categoria_precio'] == 'media').astype(int)\n",
    "df['es_economica'] = (df['categoria_precio'] == 'economica').astype(int)\n",
    "\n",
    "# Verificar\n",
    "df[['SalePrice', 'categoria_precio', 'es_cara', 'es_media', 'es_economica']].head()"
   ]
  }
 ],
 "metadata": {
  "kernelspec": {
   "display_name": "Python 3",
   "language": "python",
   "name": "python3"
  },
  "language_info": {
   "codemirror_mode": {
    "name": "ipython",
    "version": 3
   },
   "file_extension": ".py",
   "mimetype": "text/x-python",
   "name": "python",
   "nbconvert_exporter": "python",
   "pygments_lexer": "ipython3",
   "version": "3.12.5"
  }
 },
 "nbformat": 4,
 "nbformat_minor": 5
}
